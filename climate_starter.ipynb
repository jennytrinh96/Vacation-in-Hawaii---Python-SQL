{
 "cells": [
  {
   "cell_type": "code",
   "execution_count": 1,
   "metadata": {},
   "outputs": [],
   "source": [
    "%matplotlib inline\n",
    "# from matplotlib import style\n",
    "# style.use('fivethirtyeight')\n",
    "import matplotlib.pyplot as plt"
   ]
  },
  {
   "cell_type": "code",
   "execution_count": 2,
   "metadata": {},
   "outputs": [],
   "source": [
    "import numpy as np\n",
    "import pandas as pd\n",
    "import datetime as dt"
   ]
  },
  {
   "cell_type": "markdown",
   "metadata": {},
   "source": [
    "# Reflect Tables into SQLAlchemy ORM"
   ]
  },
  {
   "cell_type": "code",
   "execution_count": 3,
   "metadata": {},
   "outputs": [],
   "source": [
    "# Python SQL toolkit and Object Relational Mapper\n",
    "import sqlalchemy\n",
    "from sqlalchemy.ext.automap import automap_base\n",
    "from sqlalchemy.orm import Session\n",
    "from sqlalchemy import create_engine, func"
   ]
  },
  {
   "cell_type": "code",
   "execution_count": 4,
   "metadata": {},
   "outputs": [],
   "source": [
    "# create engine to hawaii.sqlite\n",
    "engine = create_engine(\"sqlite:///Resources/hawaii.sqlite\")"
   ]
  },
  {
   "cell_type": "code",
   "execution_count": 5,
   "metadata": {},
   "outputs": [
    {
     "data": {
      "text/plain": [
       "['measurement', 'station']"
      ]
     },
     "execution_count": 5,
     "metadata": {},
     "output_type": "execute_result"
    }
   ],
   "source": [
    "# reflect an existing database into a new model\n",
    "\n",
    "Base = automap_base()\n",
    "Base.prepare(engine, reflect= True)\n",
    "\n",
    "# reflect the tables\n",
    "Base.classes.keys()"
   ]
  },
  {
   "cell_type": "code",
   "execution_count": 6,
   "metadata": {},
   "outputs": [],
   "source": [
    "# View all of the classes that automap found\n",
    "Measurement = Base.classes.measurement\n",
    "Station = Base.classes.station"
   ]
  },
  {
   "cell_type": "code",
   "execution_count": 7,
   "metadata": {},
   "outputs": [],
   "source": [
    "# Use SQLAlchemy’s `automap_base()` to reflect your tables into classes and \n",
    "# save a reference to those classes called `Station` and `Measurement`.\n",
    "# Save references to each table\n"
   ]
  },
  {
   "cell_type": "code",
   "execution_count": 8,
   "metadata": {},
   "outputs": [
    {
     "data": {
      "text/plain": [
       "{'_sa_instance_state': <sqlalchemy.orm.state.InstanceState at 0x132902bb448>,\n",
       " 'prcp': 0.08,\n",
       " 'station': 'USC00519397',\n",
       " 'date': '2010-01-01',\n",
       " 'id': 1,\n",
       " 'tobs': 65.0}"
      ]
     },
     "execution_count": 8,
     "metadata": {},
     "output_type": "execute_result"
    }
   ],
   "source": [
    "# Create our session (link) from Python to the DB\n",
    "session = Session(engine)\n",
    "\n",
    "firstRowM = session.query(Measurement).first()\n",
    "firstRowM.__dict__\n",
    "\n",
    "# View Data\n",
    "engine.execute('SELECT * FROM Measurement LIMIT 5').fetchall()\n",
    "firstRowM.__dict__"
   ]
  },
  {
   "cell_type": "code",
   "execution_count": 9,
   "metadata": {},
   "outputs": [
    {
     "data": {
      "text/plain": [
       "{'_sa_instance_state': <sqlalchemy.orm.state.InstanceState at 0x132902c6e48>,\n",
       " 'id': 1,\n",
       " 'station': 'USC00519397',\n",
       " 'latitude': 21.2716,\n",
       " 'elevation': 3.0,\n",
       " 'name': 'WAIKIKI 717.2, HI US',\n",
       " 'longitude': -157.8168}"
      ]
     },
     "execution_count": 9,
     "metadata": {},
     "output_type": "execute_result"
    }
   ],
   "source": [
    "firstRowS = session.query(Station).first()\n",
    "firstRowS.__dict__\n",
    "\n",
    "# View Data\n",
    "engine.execute('SELECT * FROM Station LIMIT 5').fetchall()\n",
    "firstRowS.__dict__"
   ]
  },
  {
   "cell_type": "markdown",
   "metadata": {},
   "source": [
    "# Exploratory Precipitation Analysis"
   ]
  },
  {
   "cell_type": "code",
   "execution_count": 10,
   "metadata": {
    "scrolled": true
   },
   "outputs": [
    {
     "data": {
      "text/plain": [
       "('2017-08-23',)"
      ]
     },
     "execution_count": 10,
     "metadata": {},
     "output_type": "execute_result"
    }
   ],
   "source": [
    "# Find the most recent date in the data set.\n",
    "# session.query(Measurement.date).order_by(Measurement.date).first()\n",
    "session.query(func.max(Measurement.date)).all()\n",
    "\n",
    "# ORRR\n",
    "engine.execute('SELECT date FROM Measurement GROUP BY date ORDER BY date DESC').first()"
   ]
  },
  {
   "cell_type": "code",
   "execution_count": 11,
   "metadata": {
    "scrolled": false
   },
   "outputs": [
    {
     "data": {
      "image/png": "[encoded data removed]",
      "text/plain": [
       "<Figure size 432x288 with 1 Axes>"
      ]
     },
     "metadata": {
      "needs_background": "light"
     },
     "output_type": "display_data"
    }
   ],
   "source": [
    "# Design a query to retrieve the last 12 months of precipitation data and plot the results. \n",
    "# Starting from the most recent data point in the database. \n",
    "\n",
    "# Calculate the date one year from the last date in data set.\n",
    "# Using this date, retrieve the previous 12 months of precipitation data by querying the 12 previous months of data. \n",
    "# **Note:** Do not pass in the date as a variable to your query.\n",
    "\n",
    "dt.date(2017, 8, 23) - dt.timedelta(days=365)\n",
    "\n",
    "# Perform a query to retrieve the data and precipitation scores\n",
    "session.query(Measurement.date, Measurement.prcp).\\\n",
    "                filter(Measurement.date > (dt.date(2017, 8, 23) - dt.timedelta(days=365))).all()\n",
    "\n",
    "# Save the query results as a Pandas DataFrame and set the index to the date column\n",
    "rainDF = pd.read_sql_query(\n",
    "    sql = session.query(Measurement.date, Measurement.prcp).\\\n",
    "                filter(Measurement.date > (dt.date(2017, 8, 23) - dt.timedelta(days=365))).statement,\n",
    "                           con = engine\n",
    "                          )\n",
    "rainDF.head()\n",
    "\n",
    "# Sort the dataframe by date\n",
    "rainDF_sorted = rainDF.sort_values(by= 'date').dropna()\n",
    "\n",
    "# checkNull = rainDF.sort_values(by= 'date').dropna()\n",
    "# checkNull.isnull().values.any()\n",
    "\n",
    "\n",
    "# convert object to datetime64[ns]\n",
    "rainDF_sorted[\"date\"] = pd.to_datetime(rainDF_sorted[\"date\"]) \n",
    "\n",
    "\n",
    "# Use Pandas Plotting with Matplotlib to plot the data\n",
    "plt.plot(rainDF_sorted['date'], rainDF_sorted['prcp'])\n",
    "plt.xlabel('Date')\n",
    "plt.ylabel('Precipitation (Inches)')\n",
    "plt.title('Hawaii Date Precipitation (Inches) vs. Date')\n",
    "\n",
    "plt.tight_layout\n",
    "plt.gcf().autofmt_xdate()"
   ]
  },
  {
   "cell_type": "code",
   "execution_count": 12,
   "metadata": {},
   "outputs": [
    {
     "data": {
      "text/plain": [
       "count    2015.000000\n",
       "mean        0.176462\n",
       "std         0.460288\n",
       "min         0.000000\n",
       "25%         0.000000\n",
       "50%         0.020000\n",
       "75%         0.130000\n",
       "max         6.700000\n",
       "Name: prcp, dtype: float64"
      ]
     },
     "execution_count": 12,
     "metadata": {},
     "output_type": "execute_result"
    }
   ],
   "source": [
    "# Use Pandas to calculate the summary statistics for the precipitation data\n",
    "rainDF_sorted['prcp'].describe()\n"
   ]
  },
  {
   "cell_type": "markdown",
   "metadata": {},
   "source": [
    "# Exploratory Station Analysis"
   ]
  },
  {
   "cell_type": "code",
   "execution_count": 13,
   "metadata": {},
   "outputs": [
    {
     "data": {
      "text/plain": [
       "[(1, 'USC00519397', 'WAIKIKI 717.2, HI US', 21.2716, -157.8168, 3.0),\n",
       " (2, 'USC00513117', 'KANEOHE 838.1, HI US', 21.4234, -157.8015, 14.6),\n",
       " (3, 'USC00514830', 'KUALOA RANCH HEADQUARTERS 886.9, HI US', 21.5213, -157.8374, 7.0),\n",
       " (4, 'USC00517948', 'PEARL CITY, HI US', 21.3934, -157.9751, 11.9),\n",
       " (5, 'USC00518838', 'UPPER WAHIAWA 874.3, HI US', 21.4992, -158.0111, 306.6),\n",
       " (6, 'USC00519523', 'WAIMANALO EXPERIMENTAL FARM, HI US', 21.33556, -157.71139, 19.5),\n",
       " (7, 'USC00519281', 'WAIHEE 837.5, HI US', 21.45167, -157.84888999999998, 32.9),\n",
       " (8, 'USC00511918', 'HONOLULU OBSERVATORY 702.2, HI US', 21.3152, -157.9992, 0.9),\n",
       " (9, 'USC00516128', 'MANOA LYON ARBO 785.2, HI US', 21.3331, -157.8025, 152.4)]"
      ]
     },
     "execution_count": 13,
     "metadata": {},
     "output_type": "execute_result"
    }
   ],
   "source": [
    "engine.execute('SELECT * FROM Station').fetchall()"
   ]
  },
  {
   "cell_type": "code",
   "execution_count": 14,
   "metadata": {},
   "outputs": [
    {
     "data": {
      "text/plain": [
       "{'_sa_instance_state': <sqlalchemy.orm.state.InstanceState at 0x132902c6e48>,\n",
       " 'id': 1,\n",
       " 'station': 'USC00519397',\n",
       " 'latitude': 21.2716,\n",
       " 'elevation': 3.0,\n",
       " 'name': 'WAIKIKI 717.2, HI US',\n",
       " 'longitude': -157.8168}"
      ]
     },
     "execution_count": 14,
     "metadata": {},
     "output_type": "execute_result"
    }
   ],
   "source": [
    "firstRowS.__dict__"
   ]
  },
  {
   "cell_type": "code",
   "execution_count": 15,
   "metadata": {},
   "outputs": [
    {
     "data": {
      "text/plain": [
       "[(9,)]"
      ]
     },
     "execution_count": 15,
     "metadata": {},
     "output_type": "execute_result"
    }
   ],
   "source": [
    "# Design a query to calculate the total number stations in the dataset\n",
    "engine.execute('SELECT station, COUNT(station) FROM Station').first()\n",
    "\n",
    "# ORRRR\n",
    "session.query(func.count(Station.station)).all()"
   ]
  },
  {
   "cell_type": "code",
   "execution_count": 16,
   "metadata": {
    "scrolled": true
   },
   "outputs": [
    {
     "data": {
      "text/plain": [
       "[('USC00519281', 2772),\n",
       " ('USC00519397', 2724),\n",
       " ('USC00513117', 2709),\n",
       " ('USC00519523', 2669),\n",
       " ('USC00516128', 2612),\n",
       " ('USC00514830', 2202),\n",
       " ('USC00511918', 1979),\n",
       " ('USC00517948', 1372),\n",
       " ('USC00518838', 511)]"
      ]
     },
     "execution_count": 16,
     "metadata": {},
     "output_type": "execute_result"
    }
   ],
   "source": [
    "# Design a query to find the most active stations (i.e. what stations have the most rows?)\n",
    "# List the stations and the counts in descending order.\n",
    "# session.query(func.count(Station.station, Measurement.station)).fetchall()\n",
    "\n",
    "\n",
    "# engine.execute('SELECT m.station, s.station FROM Measurement m JOIN Station s on m.station = s.station').fetchall()\n",
    "stationCount = engine.execute('SELECT m.station, COUNT(m.station) FROM Measurement m GROUP BY m.station ORDER BY COUNT(m.station) DESC').fetchall()\n",
    "\n",
    "stationCount"
   ]
  },
  {
   "cell_type": "code",
   "execution_count": 17,
   "metadata": {
    "scrolled": true
   },
   "outputs": [
    {
     "data": {
      "text/plain": [
       "[(71.66378066378067,)]"
      ]
     },
     "execution_count": 17,
     "metadata": {},
     "output_type": "execute_result"
    }
   ],
   "source": [
    "# Using the most active station id from the previous query, calculate the lowest, highest, and average temperature.\n",
    "activeStation = stationCount[0].station\n",
    "\n",
    "# ? = will automatically use new updated list, only in SQL\n",
    "# engine.execute(\"SELECT * FROM Measurement m WHERE m.station = ?\", activeStation).fetchall()\n",
    "\n",
    "\n",
    "engine.execute('SELECT MAX(m.tobs) FROM Measurement m WHERE m.station LIKE ?', activeStation).fetchall()\n",
    "engine.execute('SELECT MIN(m.tobs) FROM Measurement m WHERE m.station LIKE ?', activeStation).fetchall()\n",
    "engine.execute('SELECT AVG(m.tobs) FROM Measurement m WHERE m.station LIKE ?', activeStation).fetchall()\n",
    "\n"
   ]
  },
  {
   "cell_type": "code",
   "execution_count": 139,
   "metadata": {
    "scrolled": false
   },
   "outputs": [
    {
     "data": {
      "text/plain": [
       "Text(0.5, 1.0, 'Waihee Station Temperature Observations')"
      ]
     },
     "execution_count": 139,
     "metadata": {},
     "output_type": "execute_result"
    },
    {
     "data": {
      "image/png": "[encoded data removed]",
      "text/plain": [
       "<Figure size 432x288 with 1 Axes>"
      ]
     },
     "metadata": {
      "needs_background": "light"
     },
     "output_type": "display_data"
    }
   ],
   "source": [
    "# Using the most active station id\n",
    "# Query the last 12 months of temperature observation data for this station and plot the results as a histogram\n",
    "\n",
    "# Query the most recent date of the active station\n",
    "activeStation_dateTemp = engine.execute('SELECT date FROM Measurement WHERE station LIKE ? GROUP BY date ORDER BY date DESC', \\\n",
    "               activeStation).first()\n",
    "# activeStation_dateTemp\n",
    "\n",
    "\n",
    "# Convert query into DF\n",
    "\n",
    "waiheeTemp_DF = pd.read_sql_query(\n",
    "    sql = session.query(Measurement.date, Measurement.tobs).\\\n",
    "                    filter((Measurement.station == activeStation) &\n",
    "                           (Measurement.date > (dt.date(2017, 8, 18) - dt.timedelta(days= 365)))).\\\n",
    "                            statement, con = engine)\n",
    "# waiheeTemp_DF\n",
    "\n",
    "# Check for Nulls\n",
    "# waiheeTemp_DF.isnull().values.any() #False\n",
    "\n",
    "# Plot histogram\n",
    "# Plot the results as a histogram with `bins=12`\n",
    "\n",
    "waiheeTemp_DF.hist(bins= 12, align= 'mid')\n",
    "plt.xlabel('Temperature')\n",
    "plt.ylabel('Frequency')\n",
    "plt.title('Waihee Station Temperature Observations')\n",
    "\n",
    "\n",
    "\n"
   ]
  },
  {
   "cell_type": "markdown",
   "metadata": {},
   "source": [
    "# Close session"
   ]
  },
  {
   "cell_type": "code",
   "execution_count": 140,
   "metadata": {},
   "outputs": [],
   "source": [
    "# Close Session\n",
    "session.close()"
   ]
  },
  {
   "cell_type": "code",
   "execution_count": 21,
   "metadata": {},
   "outputs": [],
   "source": [
    "# Notes/ Debug\n",
    "\n",
    "# # convert object to datetime64[ns]\n",
    "# pd.to_datetime(rainDF_sorted[\"date\"]) \n",
    "\n",
    "# waiheeTemp_DF = pd.read_sql_query(\n",
    "#     sql = session.query(Measurement.date, Measurement.tobs).\\\n",
    "#                     filter(Measurement.station == activeStation & \\\n",
    "#                            (pd.to_datetime(\"today\") - dt.timedelta(days=365)) < (pd.to_datetime(Measurement.date))).\\\n",
    "#                             statement, con = engine)\n",
    "\n",
    "\n",
    "# pd.to_datetime(\"today\")\n",
    "\n",
    "\n",
    "# waiheeTemp_DF = pd.read_sql_query(\n",
    "#     sql = session.query(Measurement.date, Measurement.tobs).\\\n",
    "#     filter_by(station= activeStation).\\\n",
    "#     statement, con = engine)\n",
    "\n",
    "# waiheeTemp_DF = pd.read_sql_query(\n",
    "#     sql = engine.execute('SELECT m.date FROM MEASUREMENT m WHERE m.station LIKE ? AND '\n",
    "#                          'm.date BETWEEN \"08/18/2016\" AND \"08/18/2017\"', activeStation).statement, con = engine)\n",
    "\n",
    "# waiheeTemp_DF = pd.read_sql_query(\n",
    "#     sql = session.query(Measurement.date, Measurement.tobs).\\\n",
    "#                     filter(Measurement.station == activeStation & \\\n",
    "#                            (Measurement.date > (dt.date(2017, 8, 18) - dt.timedelta(days= 365)))).\\\n",
    "#                             statement, con = engine)\n",
    "\n",
    "\n",
    "# Works - \n",
    "# waiheeTemp_DF = pd.read_sql_query(\n",
    "#     sql = session.query(Measurement.date, Measurement.tobs).\\\n",
    "#                     filter((Measurement.station == activeStation) &\n",
    "#                            (Measurement.date > (dt.date(2017, 8, 18) - dt.timedelta(days= 365)))).\\\n",
    "#                             statement, con = engine)\n",
    "# waiheeTemp_DF"
   ]
  }
 ],
 "metadata": {
  "anaconda-cloud": {},
  "kernel_info": {
   "name": "python3"
  },
  "kernelspec": {
   "display_name": "Python 3 (ipykernel)",
   "language": "python",
   "name": "python3"
  },
  "language_info": {
   "codemirror_mode": {
    "name": "ipython",
    "version": 3
   },
   "file_extension": ".py",
   "mimetype": "text/x-python",
   "name": "python",
   "nbconvert_exporter": "python",
   "pygments_lexer": "ipython3",
   "version": "3.7.13"
  },
  "nteract": {
   "version": "0.12.3"
  },
  "varInspector": {
   "cols": {
    "lenName": 16,
    "lenType": 16,
    "lenVar": 40
   },
   "kernels_config": {
    "python": {
     "delete_cmd_postfix": "",
     "delete_cmd_prefix": "del ",
     "library": "var_list.py",
     "varRefreshCmd": "print(var_dic_list())"
    },
    "r": {
     "delete_cmd_postfix": ") ",
     "delete_cmd_prefix": "rm(",
     "library": "var_list.r",
     "varRefreshCmd": "cat(var_dic_list()) "
    }
   },
   "types_to_exclude": [
    "module",
    "function",
    "builtin_function_or_method",
    "instance",
    "_Feature"
   ],
   "window_display": false
  }
 },
 "nbformat": 4,
 "nbformat_minor": 2
}
